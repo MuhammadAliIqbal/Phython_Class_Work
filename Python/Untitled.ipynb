{
 "cells": [
  {
   "cell_type": "code",
   "execution_count": null,
   "metadata": {},
   "outputs": [],
   "source": [
    "num=int(input(\"Enter a number\"))\n",
    "if num%2==0:\n",
    "    print(\"Even number\")\n",
    "else:\n",
    "    print(\"odd number\")"
   ]
  },
  {
   "cell_type": "code",
   "execution_count": null,
   "metadata": {},
   "outputs": [],
   "source": [
    "weight=int(input(\"WHat's the temperature\"))\n",
    "if weight>25:\n",
    "    print(\"wear pant\")\n",
    "else:\n",
    "    print(\"wear jeans\")\n",
    "    \n",
    "print(\"get some exercise outside\")"
   ]
  },
  {
   "cell_type": "code",
   "execution_count": null,
   "metadata": {},
   "outputs": [],
   "source": [
    "name=input(\"Enter your name \").upper()\n",
    "if name == 'SHAHRUKH':\n",
    "    print('your name is '+name)\n",
    "else:\n",
    "    print(\"No\")"
   ]
  },
  {
   "cell_type": "code",
   "execution_count": null,
   "metadata": {},
   "outputs": [],
   "source": [
    "x= float(input(\"Enter your marks out of \"))\n",
    "if x>=90 and x<=100:\n",
    "    print(\"Grade A+\")\n",
    "elif x>80:\n",
    "    print(\"Grade A\")\n",
    "elif x>70:\n",
    "    print(\"Grade B\")\n",
    "elif x>60:\n",
    "    print(\"Grade C\")\n",
    "elif x<60:\n",
    "    print(\"Grade F\")\n",
    "elif x>100:\n",
    "    print(\"It's an error\")    \n",
    "per=(x/100)*100\n",
    "print(\"the percentage is\"+str(per)+\"%\")    \n",
    "\n",
    "    "
   ]
  },
  {
   "cell_type": "code",
   "execution_count": 14,
   "metadata": {},
   "outputs": [
    {
     "name": "stdout",
     "output_type": "stream",
     "text": [
      "English100\n",
      "Computer100\n",
      "Maths100\n",
      "Physics100\n",
      "Chemistry100\n",
      "100.0%\n",
      "Grade A+\n",
      "Your percentage is 100.0\n",
      "Your Grade is100.0\n",
      "Obtained marks500\n"
     ]
    }
   ],
   "source": [
    "a=int(input(\"English\"))\n",
    "b=int(input(\"Computer\"))\n",
    "c=int(input(\"Maths\"))\n",
    "d=int(input(\"Physics\"))\n",
    "e=int(input(\"Chemistry\"))\n",
    "obtainedmarks= a + b + c + d + e\n",
    "if obtainedmarks > 500:\n",
    "    print(\"Invalid marks\")\n",
    "else:\n",
    "    per=(obtainedmarks/500) *100\n",
    "    print(str(per) + \"%\")\n",
    "x = per\n",
    "if x>=90:\n",
    "    print(\"Grade A+\")\n",
    "elif x>80:\n",
    "    print(\"Grade A\")\n",
    "elif x>70:\n",
    "    print(\"Grade B\")\n",
    "elif x>60:\n",
    "    print(\"Grade C\")\n",
    "elif x<60:\n",
    "    print(\"Grade F\")\n",
    "\n",
    "print(\"Your percentage is \"+str(per)+\"\\nYour Grade is\"+str(x)+\"\\nObtained marks\"+str(obtainedmarks))"
   ]
  }
 ],
 "metadata": {
  "kernelspec": {
   "display_name": "Python 3",
   "language": "python",
   "name": "python3"
  },
  "language_info": {
   "codemirror_mode": {
    "name": "ipython",
    "version": 3
   },
   "file_extension": ".py",
   "mimetype": "text/x-python",
   "name": "python",
   "nbconvert_exporter": "python",
   "pygments_lexer": "ipython3",
   "version": "3.7.1"
  }
 },
 "nbformat": 4,
 "nbformat_minor": 2
}
