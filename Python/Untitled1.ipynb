{
 "cells": [
  {
   "cell_type": "code",
   "execution_count": 1,
   "metadata": {},
   "outputs": [
    {
     "name": "stdout",
     "output_type": "stream",
     "text": [
      "Ask from your father, where you want  to go?Y\n",
      "Do you have tickets?Y\n",
      "Enter your age18\n",
      "You r allowed for the match\n"
     ]
    }
   ],
   "source": [
    "permission= input(\"Ask from your father, where you want  to go?\").upper()\n",
    "tickets= input(\"Do you have tickets?\").upper()\n",
    "age=int(input(\"Enter your age\"))\n",
    "if age>=18 and permission==\"Y\" and tickets==\"Y\":\n",
    "    print(\"You r allowed for the match\")\n",
    "else:\n",
    "    print(\"Get loss from here\")"
   ]
  },
  {
   "cell_type": "code",
   "execution_count": 2,
   "metadata": {},
   "outputs": [
    {
     "name": "stdout",
     "output_type": "stream",
     "text": [
      "Ask from your father, where you want  to go?y\n",
      "Do you have tickets?y\n",
      "Enter your age10\n",
      "You r allowed for the match\n"
     ]
    }
   ],
   "source": [
    "permission= input(\"Ask from your father, where you want  to go?\").upper()\n",
    "tickets= input(\"Do you have tickets?\").upper()\n",
    "age=int(input(\"Enter your age\"))\n",
    "if age>=18 or permission==\"Y\" or tickets==\"Y\":\n",
    "    print(\"You r allowed for the match\")\n",
    "else:\n",
    "    print(\"Get loss from here\")"
   ]
  },
  {
   "cell_type": "code",
   "execution_count": 4,
   "metadata": {},
   "outputs": [
    {
     "name": "stdout",
     "output_type": "stream",
     "text": [
      "Enter your age76\n",
      "Do you have NIC?b\n",
      "You are not elgible to vote!\n"
     ]
    }
   ],
   "source": [
    "age=int(input(\"Enter your age\"))\n",
    "remainingAge=18-age\n",
    "if age>18:\n",
    "    hNic=input(\"Do you have NIC?\")\n",
    "    if hNic=='Y' or hNic=='y.\n",
    "    ':\n",
    "        Nic=input(\"Enter your CNIC? \")\n",
    "        city=input(\"enter your city: \")\n",
    "        print(\"Your age: \"+str(age)+\"\\nEnter your NIC: \"+str(Nic)+\"\\nYour city: \"+str(city)+\"\\nYou are elgible to vote!\")\n",
    "    else:\n",
    "        print(\"You are not elgible to vote!\") \n",
    "else:\n",
    "    print(\"your are not eligible for this process, you can vote after: \"+str(remainingAge)+\"years\")"
   ]
  },
  {
   "cell_type": "code",
   "execution_count": 5,
   "metadata": {},
   "outputs": [
    {
     "data": {
      "text/plain": [
       "'cricket'"
      ]
     },
     "execution_count": 5,
     "metadata": {},
     "output_type": "execute_result"
    }
   ],
   "source": [
    "sports=['cricket','football','hockey']\n",
    "sports[0]\n"
   ]
  }
 ],
 "metadata": {
  "kernelspec": {
   "display_name": "Python 3",
   "language": "python",
   "name": "python3"
  },
  "language_info": {
   "codemirror_mode": {
    "name": "ipython",
    "version": 3
   },
   "file_extension": ".py",
   "mimetype": "text/x-python",
   "name": "python",
   "nbconvert_exporter": "python",
   "pygments_lexer": "ipython3",
   "version": "3.7.1"
  }
 },
 "nbformat": 4,
 "nbformat_minor": 2
}
