{
 "cells": [
  {
   "cell_type": "code",
   "execution_count": 1,
   "metadata": {},
   "outputs": [
    {
     "name": "stdout",
     "output_type": "stream",
     "text": [
      "1 = Got a true expression value\n"
     ]
    }
   ],
   "source": [
    "varl =100\n",
    "if varl:\n",
    "    print (\"1 = Got a true expression value\")\n",
    "    "
   ]
  },
  {
   "cell_type": "code",
   "execution_count": 5,
   "metadata": {},
   "outputs": [
    {
     "name": "stdout",
     "output_type": "stream",
     "text": [
      "enter your name : ALI\n",
      "Your name is ali\n"
     ]
    }
   ],
   "source": [
    "name = input(\"enter your name : \").lower()\n",
    "if name == \"ali\":\n",
    "    print ('Your name is ' + name)\n",
    "    \n",
    "else:\n",
    "        print(\"NO\")\n",
    "    \n",
    "        \n",
    "    \n",
    "    \n",
    "        "
   ]
  },
  {
   "cell_type": "code",
   "execution_count": 6,
   "metadata": {},
   "outputs": [
    {
     "name": "stdout",
     "output_type": "stream",
     "text": [
      "How many pounds does your suitcase weight45\n",
      "Thank you for your buisness\n"
     ]
    }
   ],
   "source": [
    "weight = float(input(\"How many pounds does your suitcase weight\"))\n",
    "if weight >50:\n",
    "    print(\"There is a $25 charge for lagguage that heavy.\")\n",
    "    \n",
    "print(\"Thank you for your buisness\")    "
   ]
  },
  {
   "cell_type": "code",
   "execution_count": 7,
   "metadata": {},
   "outputs": [
    {
     "name": "stdout",
     "output_type": "stream",
     "text": [
      "Enter yours marks out of 100 :85\n",
      "Grade b\n"
     ]
    }
   ],
   "source": [
    "x = float(input(\"Enter yours marks out of 100 :\"))\n",
    "if x >= 90:\n",
    "    print(\"Grade A*\")\n",
    "elif x >= 80: \n",
    "    print(\"Grade b\")\n",
    "elif x >= 70:\n",
    "    print(\"Grade c\")\n",
    "elif x >= 60:\n",
    "    print(\"Grade d\")\n",
    "elif x >= 50:\n",
    "    print(\"Grade e\")\n",
    "elif x >= 40:\n",
    "    print(\"Grade F\")\n",
    "   "
   ]
  },
  {
   "cell_type": "code",
   "execution_count": 1,
   "metadata": {},
   "outputs": [
    {
     "name": "stdout",
     "output_type": "stream",
     "text": [
      "how many marks you obtain in English75\n",
      "how many marks you obtain in computer85\n",
      "how many marks you obtain in maths65\n",
      "how many marks you obtain in chemistry75\n",
      "how many marks you obtain in urdu80\n",
      "76.0\n"
     ]
    }
   ],
   "source": [
    "English = float(input(\"how many marks you obtain in English\"))\n",
    "computer = float(input(\"how many marks you obtain in computer\"))\n",
    "maths = float(input(\"how many marks you obtain in maths\"))\n",
    "chemistry = float(input(\"how many marks you obtain in chemistry\"))\n",
    "urdu = float(input(\"how many marks you obtain in urdu\"))\n",
    "\n",
    "totalMarksObtained = English + computer + maths + chemistry + urdu\n",
    "total =500\n",
    "percentage=totalMarksObtained/total*100\n",
    "print(percentage)\n"
   ]
  },
  {
   "cell_type": "code",
   "execution_count": null,
   "metadata": {},
   "outputs": [],
   "source": []
  }
 ],
 "metadata": {
  "kernelspec": {
   "display_name": "Python 3",
   "language": "python",
   "name": "python3"
  },
  "language_info": {
   "codemirror_mode": {
    "name": "ipython",
    "version": 3
   },
   "file_extension": ".py",
   "mimetype": "text/x-python",
   "name": "python",
   "nbconvert_exporter": "python",
   "pygments_lexer": "ipython3",
   "version": "3.7.1"
  }
 },
 "nbformat": 4,
 "nbformat_minor": 2
}
